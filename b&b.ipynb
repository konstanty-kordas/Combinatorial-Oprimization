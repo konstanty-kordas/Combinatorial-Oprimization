{
 "cells": [
  {
   "cell_type": "code",
   "execution_count": 96,
   "metadata": {},
   "outputs": [],
   "source": [
    "import numpy as np"
   ]
  },
  {
   "cell_type": "code",
   "execution_count": 97,
   "metadata": {},
   "outputs": [],
   "source": [
    "class Agent:\n",
    "    def next_action(self, percepts):\n",
    "        ...\n",
    "        return action"
   ]
  },
  {
   "cell_type": "markdown",
   "metadata": {},
   "source": [
    "## 1.Assignment problem"
   ]
  },
  {
   "cell_type": "code",
   "execution_count": 102,
   "metadata": {},
   "outputs": [],
   "source": [
    "from itertools import product\n",
    "\n",
    "class AssingmentProblem:\n",
    "    def __init__(self):\n",
    "        self.problem = np.random.randint(10,size=(4,4))\n",
    "\n",
    "    def initial_state(self):\n",
    "        return ()\n",
    "\n",
    "    def available_actions(self, state):\n",
    "        machines = [i for i in range(4)]\n",
    "        agents = [i for i in range(4)]\n",
    "        for i in state:\n",
    "            machines.remove(i[0])\n",
    "            agents.remove(i[1])\n",
    "        actions = set()\n",
    "        for elem in product(machines,agents):\n",
    "            actions.add(elem)\n",
    "        return tuple(actions)\n",
    "        \n",
    "    def do_action(self, state, action):\n",
    "        new_state = list(state)\n",
    "        new_state.append(action)\n",
    "        return tuple(new_state)\n",
    "    \n",
    "    def is_goal(self, state) -> bool:\n",
    "        if len(self.available_actions(state))==0:\n",
    "            return True\n",
    "        return False"
   ]
  },
  {
   "cell_type": "code",
   "execution_count": 151,
   "metadata": {},
   "outputs": [],
   "source": [
    "class BranchAndBoundAgent:\n",
    "    def __init__(self,problem) -> None:\n",
    "        self.problem = problem       \n",
    "        self.solution = set()\n",
    "\n",
    "    def solve(self):\n",
    "        state = self.problem.initial_state\n",
    "        queue = [state]\n",
    "        lb = float('-inf')\n",
    "        ub = float('inf')\n",
    "        solution = []\n",
    "        current_min = float('inf')\n",
    "        while (len(queue)>0):\n",
    "            current = queue.pop(0)\n",
    "            lb = self.get_current_value(current)\n",
    "            possible = self.problem.available_actions(current)\n",
    "            for p in possible:\n",
    "                next_state = self.problem.do_action(current,p)\n",
    "                print(next_state)\n",
    "\n",
    "\n",
    "    def get_current_value(self, state):\n",
    "        value = 0\n",
    "        for i in state:\n",
    "            value += self.problem.problem[i[0]][i[1]]\n",
    "        return value"
   ]
  },
  {
   "cell_type": "code",
   "execution_count": 152,
   "metadata": {},
   "outputs": [
    {
     "name": "stdout",
     "output_type": "stream",
     "text": [
      "((0, 1),)\n",
      "((1, 2),)\n",
      "((2, 1),)\n",
      "((0, 0),)\n",
      "((3, 1),)\n",
      "((1, 1),)\n",
      "((0, 3),)\n",
      "((2, 0),)\n",
      "((3, 0),)\n",
      "((2, 3),)\n",
      "((0, 2),)\n",
      "((3, 3),)\n",
      "((2, 2),)\n",
      "((1, 0),)\n",
      "((3, 2),)\n",
      "((1, 3),)\n"
     ]
    }
   ],
   "source": [
    "problem = AssingmentProblem()\n",
    "agent = BranchAndBoundAgent(problem)\n",
    "state = problem.initial_state\n",
    "agent.solve()\n"
   ]
  },
  {
   "cell_type": "code",
   "execution_count": null,
   "metadata": {},
   "outputs": [],
   "source": []
  },
  {
   "cell_type": "code",
   "execution_count": null,
   "metadata": {},
   "outputs": [],
   "source": []
  }
 ],
 "metadata": {
  "kernelspec": {
   "display_name": "Python 3.10.6 64-bit",
   "language": "python",
   "name": "python3"
  },
  "language_info": {
   "codemirror_mode": {
    "name": "ipython",
    "version": 3
   },
   "file_extension": ".py",
   "mimetype": "text/x-python",
   "name": "python",
   "nbconvert_exporter": "python",
   "pygments_lexer": "ipython3",
   "version": "3.10.6"
  },
  "orig_nbformat": 4,
  "vscode": {
   "interpreter": {
    "hash": "916dbcbb3f70747c44a77c7bcd40155683ae19c65e1c03b4aa3499c5328201f1"
   }
  }
 },
 "nbformat": 4,
 "nbformat_minor": 2
}
